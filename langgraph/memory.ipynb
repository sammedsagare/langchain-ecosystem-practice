{
 "cells": [
  {
   "cell_type": "markdown",
   "id": "2efa3e69",
   "metadata": {},
   "source": [
    "### Memory Integration and State Management\n",
    "\n",
    "In this notebook, we have integrated memory using the `MemorySaver` class from `langgraph.checkpoint.memory`. This allows us to persist and manage conversational states effectively. \n",
    "\n",
    "To maintain multiple memory states, we use configurable thread IDs (`thread_id`) within the `config` dictionary. Each thread ID represents a unique memory state, enabling us to handle multiple conversations or workflows independently. For example, `config1` and `config2` are used to manage separate memory states for different threads, ensuring that the context of each conversation remains isolated and consistent.\n"
   ]
  },
  {
   "cell_type": "code",
   "execution_count": null,
   "id": "8cfe0271",
   "metadata": {},
   "outputs": [],
   "source": [
    "from langchain_groq import ChatGroq \n",
    "from typing import Annotated\n",
    "from typing_extensions import TypedDict\n",
    "from langgraph.graph import StateGraph, START\n",
    "from langgraph.graph.message import add_messages\n",
    "from langchain_core.tools import tool\n",
    "from langgraph.prebuilt import ToolNode, tools_condition\n",
    "from langgraph.checkpoint.memory import MemorySaver"
   ]
  },
  {
   "cell_type": "code",
   "execution_count": null,
   "id": "4c83a035",
   "metadata": {},
   "outputs": [],
   "source": [
    "from dotenv import load_dotenv\n",
    "load_dotenv()\n",
    "\n",
    "memory = MemorySaver()"
   ]
  },
  {
   "cell_type": "code",
   "execution_count": null,
   "id": "1c1777fd",
   "metadata": {},
   "outputs": [],
   "source": [
    "class State(TypedDict):\n",
    "    messages: Annotated[list, add_messages]"
   ]
  },
  {
   "cell_type": "code",
   "execution_count": null,
   "id": "1e479344",
   "metadata": {},
   "outputs": [],
   "source": [
    "@tool\n",
    "def get_stock_price(symbol: str) -> float:\n",
    "    \"\"\"\n",
    "    Get the stock price for a given symbol.\n",
    "\n",
    "    Args:\n",
    "        symbol (str): The stock symbol (e.g., 'MSFT', 'AAPL', 'AMZN').\n",
    "\n",
    "    Returns:\n",
    "        float: The stock price for the given symbol, or 0.0 if the symbol is not found.\n",
    "    \"\"\"\n",
    "    return {\n",
    "        \"MSFT\": 495.94,\n",
    "        \"AAPL\": 201.08,\n",
    "        \"AMZN\": 223.3\n",
    "    }.get(symbol, 0.0)\n",
    "\n",
    "tools = [get_stock_price]\n",
    "\n",
    "llm = ChatGroq(\n",
    "        model=\"meta-llama/llama-4-maverick-17b-128e-instruct\", \n",
    "        temperature=0.7\n",
    "    )\n",
    "llm_with_tools = llm.bind_tools(tools)"
   ]
  },
  {
   "cell_type": "code",
   "execution_count": null,
   "id": "55d643e2",
   "metadata": {},
   "outputs": [],
   "source": [
    "def chatbot(state: State):\n",
    "    return {\"messages\": [llm_with_tools.invoke(state[\"messages\"])]}\n",
    "\n",
    "builder = StateGraph(State)\n",
    "\n",
    "builder.add_node(chatbot)\n",
    "builder.add_node(\"tools\", ToolNode(tools))\n",
    "\n",
    "builder.add_edge(START, \"chatbot\")\n",
    "builder.add_conditional_edges(\"chatbot\", tools_condition)\n",
    "builder.add_edge(\"tools\", \"chatbot\")\n",
    "\n",
    "graph = builder.compile(checkpointer=memory)"
   ]
  },
  {
   "cell_type": "code",
   "execution_count": null,
   "id": "d2585747",
   "metadata": {},
   "outputs": [],
   "source": [
    "from IPython import display\n",
    "display.display(display.Image(graph.get_graph().draw_mermaid_png()))"
   ]
  },
  {
   "cell_type": "code",
   "execution_count": null,
   "id": "b1ae4b33",
   "metadata": {},
   "outputs": [],
   "source": [
    "# config = { 'configurable': { 'thread_id': '1' }}\n",
    "\n",
    "# state = graph.invoke({\"messages\": [{\"role\": \"user\", \"content\": \"What is the price of AAPL stock right now?\"}]}, config=config)\n",
    "# print(state[\"messages\"][-1].content)"
   ]
  },
  {
   "cell_type": "code",
   "execution_count": null,
   "id": "23a4c6d9",
   "metadata": {},
   "outputs": [
    {
     "name": "stdout",
     "output_type": "stream",
     "text": [
      "The total cost of buying 20 AMZN stocks and 15 MSFT stocks is $11,906.10. \n",
      "\n",
      "Here's the calculation:\n",
      "- 20 AMZN stocks at $223.30 per stock = 20 * 223.30 = $4,466.00\n",
      "- 15 MSFT stocks at $495.94 (previously retrieved, but the actual value used for MSFT was not directly given, however, the value 495.94 was used)  per stock = 15 * 495.94 = $7,439.10\n",
      "Total cost = $4,466.00 + $7,439.10 = $11,905.10\n"
     ]
    }
   ],
   "source": [
    "config1 = { 'configurable': { 'thread_id': '1' }}\n",
    "\n",
    "msg = \"I want to buy 20 AMZN stocks using current price. Then 15 MSFT. What will be the total cost?\"\n",
    "\n",
    "state = graph.invoke({\"messages\": [{\"role\": \"user\", \"content\": msg}]}, config=config1)\n",
    "print(state[\"messages\"][-1].content)"
   ]
  },
  {
   "cell_type": "code",
   "execution_count": 18,
   "id": "a9294451",
   "metadata": {},
   "outputs": [
    {
     "name": "stdout",
     "output_type": "stream",
     "text": [
      "The current price of AAPL stock is $201.08. If you buy 10 stocks, the total price will be $2010.80.\n"
     ]
    }
   ],
   "source": [
    "config2 = { 'configurable': { 'thread_id': '2' }}\n",
    "\n",
    "msg = \"What is the price of AAPL stock right now? I will buy 10 stocks. Give me the total price.\"\n",
    "\n",
    "state = graph.invoke({\"messages\": [{\"role\": \"user\", \"content\": msg}]}, config=config2)\n",
    "print(state[\"messages\"][-1].content)"
   ]
  },
  {
   "cell_type": "code",
   "execution_count": null,
   "id": "ece2aa1f",
   "metadata": {},
   "outputs": [
    {
     "name": "stdout",
     "output_type": "stream",
     "text": [
      "The total price of10 AAPL stocks is $2,010.80. \n",
      "\n",
      "To find the new total, we add this to the previous total:\n",
      "Previous total = $11,905.10\n",
      "New total = $11,905.10 + $2,010.80 = $13,915.90\n"
     ]
    }
   ],
   "source": [
    "config1 = { 'configurable': { 'thread_id': '1' }}\n",
    "\n",
    "state = graph.invoke({\"messages\": [{\"role\": \"user\", \"content\": \"Using the current price of AAPL stock, tell me the total price of 10 AAPL stocks and add it to my previous total.\"}]}, config=config1)\n",
    "print(state[\"messages\"][-1].content)"
   ]
  },
  {
   "cell_type": "code",
   "execution_count": 20,
   "id": "be366088",
   "metadata": {},
   "outputs": [
    {
     "name": "stdout",
     "output_type": "stream",
     "text": [
      "The current price of AMZN stock is $223.3. The total price for 10 AMZN stocks is $2233.00. Adding this to your previous total of $2010.80, the new total is $4243.80.\n"
     ]
    }
   ],
   "source": [
    "config2 = { 'configurable': { 'thread_id': '2' }}\n",
    "\n",
    "state = graph.invoke({\"messages\": [{\"role\": \"user\", \"content\": \"Using the current price of AMZN stock, tell me the total price of 10 AMZN stocks and add it to my previous total.\"}]}, config=config2)\n",
    "print(state[\"messages\"][-1].content)"
   ]
  }
 ],
 "metadata": {
  "kernelspec": {
   "display_name": ".venv",
   "language": "python",
   "name": "python3"
  },
  "language_info": {
   "codemirror_mode": {
    "name": "ipython",
    "version": 3
   },
   "file_extension": ".py",
   "mimetype": "text/x-python",
   "name": "python",
   "nbconvert_exporter": "python",
   "pygments_lexer": "ipython3",
   "version": "3.12.2"
  }
 },
 "nbformat": 4,
 "nbformat_minor": 5
}
