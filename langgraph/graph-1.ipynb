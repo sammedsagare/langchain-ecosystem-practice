{
 "cells": [
  {
   "cell_type": "markdown",
   "id": "71d9a3e5",
   "metadata": {},
   "source": [
    "### 1. State Definition (`PortfolioState`)\n",
    "- Defines the data structure that flows through the graph\n",
    "- Contains three fields:\n",
    "  - `amount_usd`: Initial USD amount (input)\n",
    "  - `total_usd`: USD amount after markup calculation\n",
    "  - `total_inr`: Final amount converted to Indian Rupees\n",
    "\n",
    "### 2. Processing Functions\n",
    "- **`calc_total()`**: Multiplies the input USD amount by 1.08 (8% markup)\n",
    "- **`conv_inr()`**: Converts USD to INR using exchange rate of 85\n",
    "\n",
    "### 3. Graph Structure\n",
    "- **Nodes**: Two processing nodes (`calc_total_node`, `conv_inr_node`)\n",
    "- **Edges**: Sequential flow from START → calc_total_node → conv_inr_node → END\n",
    "- **Execution**: Processes data through each node in sequence\n",
    "\n",
    "### 4. Visualization & Execution\n",
    "- Displays the graph structure as a visual diagram\n",
    "- Executes the pipeline with a sample input of $1000 USD\n",
    "- Expected output: `{'amount_usd': 1000.0, 'total_usd': 1080.0, 'total_inr': 91800.0}`"
   ]
  },
  {
   "cell_type": "code",
   "execution_count": null,
   "id": "20481664",
   "metadata": {},
   "outputs": [],
   "source": [
    "from typing import TypedDict\n",
    "\n",
    "class PortfolioState(TypedDict):\n",
    "    amount_usd: float\n",
    "    total_inr: float\n",
    "    total_usd: float"
   ]
  },
  {
   "cell_type": "code",
   "execution_count": null,
   "id": "5a008056",
   "metadata": {},
   "outputs": [],
   "source": [
    "def calc_total(state: PortfolioState) -> PortfolioState:\n",
    "    state['total_usd'] = state['amount_usd'] * 1.08\n",
    "    return state\n",
    "\n",
    "def conv_inr(state: PortfolioState) -> PortfolioState:\n",
    "    state['total_inr'] = state['total_usd'] * 85\n",
    "    return state"
   ]
  },
  {
   "cell_type": "code",
   "execution_count": null,
   "id": "934627f3",
   "metadata": {},
   "outputs": [],
   "source": [
    "from langgraph.graph import StateGraph, START, END\n",
    "\n",
    "builder = StateGraph(PortfolioState)\n",
    "\n",
    "builder.add_node(\"calc_total_node\", calc_total)\n",
    "builder.add_node(\"conv_inr_node\", conv_inr)\n",
    "\n",
    "builder.add_edge(START, \"calc_total_node\")\n",
    "builder.add_edge(\"calc_total_node\", \"conv_inr_node\")\n",
    "builder.add_edge(\"conv_inr_node\", END)\n",
    "\n",
    "graph = builder.compile()"
   ]
  },
  {
   "cell_type": "code",
   "execution_count": null,
   "id": "ccf01ea5",
   "metadata": {},
   "outputs": [],
   "source": [
    "from IPython.display import Image, display\n",
    "\n",
    "display(Image(graph.get_graph().draw_mermaid_png()))"
   ]
  },
  {
   "cell_type": "code",
   "execution_count": null,
   "id": "f3cbdc45",
   "metadata": {},
   "outputs": [],
   "source": [
    "graph.invoke(\n",
    "    {\n",
    "        \"amount_usd\": 1000.0\n",
    "    }\n",
    ")"
   ]
  }
 ],
 "metadata": {
  "kernelspec": {
   "display_name": ".venv",
   "language": "python",
   "name": "python3"
  },
  "language_info": {
   "codemirror_mode": {
    "name": "ipython",
    "version": 3
   },
   "file_extension": ".py",
   "mimetype": "text/x-python",
   "name": "python",
   "nbconvert_exporter": "python",
   "pygments_lexer": "ipython3",
   "version": "3.12.2"
  }
 },
 "nbformat": 4,
 "nbformat_minor": 5
}
