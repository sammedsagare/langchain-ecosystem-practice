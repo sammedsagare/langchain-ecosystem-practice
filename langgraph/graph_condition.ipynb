{
 "cells": [
  {
   "cell_type": "markdown",
   "id": "55c0c5cb",
   "metadata": {},
   "source": [
    "This notebook demonstrates a workflow for converting a portfolio amount in USD to a target currency (INR or EUR) using a state graph. The workflow is structured as follows:\n",
    "\n",
    "1. **Define Portfolio State**: A `TypedDict` is used to define the structure of the portfolio state, including fields for the amount in USD, total in USD, target currency, and the final converted total.\n",
    "\n",
    "2. **Conversion Functions**: Functions are implemented to calculate the total in USD and convert it to the target currency (INR or EUR). A helper function determines the target currency for conversion.\n",
    "\n",
    "3. **State Graph Construction**: Using the `StateGraph` class, a graph is built to represent the workflow. Nodes are added for each step in the process, and conditional edges are used to route the workflow based on the target currency.\n",
    "\n",
    "4. **Graph Visualization**: The constructed graph is visualized using Mermaid diagrams to provide a clear representation of the workflow.\n",
    "\n",
    "5. **User Interaction**: The user is prompted to input the amount in USD and the target currency. The graph is invoked with the provided inputs, and the workflow executes the appropriate conversion.\n",
    "\n",
    "This notebook combines Python programming, state graph modeling, and interactive user input to demonstrate a structured approach to currency conversion."
   ]
  },
  {
   "cell_type": "code",
   "execution_count": null,
   "id": "45d6417d",
   "metadata": {},
   "outputs": [],
   "source": [
    "from typing import TypedDict, Literal\n",
    "\n",
    "class PortfolioState(TypedDict):\n",
    "    amount_usd: float\n",
    "    total_usd: float\n",
    "    target_currency: Literal['inr', 'eur']\n",
    "    total: float"
   ]
  },
  {
   "cell_type": "code",
   "execution_count": null,
   "id": "f859ae1f",
   "metadata": {},
   "outputs": [],
   "source": [
    "def calc_total(state: PortfolioState) -> PortfolioState:\n",
    "    state['total_usd'] = state['amount_usd'] * 1.08\n",
    "    return state\n",
    "\n",
    "def conv_inr(state: PortfolioState) -> PortfolioState:\n",
    "    state['total'] = state['total_usd'] * 85.69\n",
    "    return state\n",
    "\n",
    "def conv_eur(state: PortfolioState) -> PortfolioState:\n",
    "    state['total'] = state['total_usd'] * 0.85\n",
    "    return state\n",
    "\n",
    "def choose_conversion(state: PortfolioState) -> str:\n",
    "    return state['target_currency']"
   ]
  },
  {
   "cell_type": "code",
   "execution_count": null,
   "id": "5d7442d4",
   "metadata": {},
   "outputs": [],
   "source": [
    "from langgraph.graph import StateGraph, START, END\n",
    "\n",
    "builder = StateGraph(PortfolioState)\n",
    "\n",
    "builder.add_node(\"calc_total_node\", calc_total)\n",
    "builder.add_node(\"conv_inr_node\", conv_inr)\n",
    "builder.add_node(\"conv_eur_node\", conv_eur)\n",
    "\n",
    "builder.add_edge(START, \"calc_total_node\")\n",
    "builder.add_conditional_edges(\n",
    "    \"calc_total_node\",\n",
    "    choose_conversion, {\n",
    "    \"inr\": \"conv_inr_node\",\n",
    "    \"eur\": \"conv_eur_node\"\n",
    "})\n",
    "builder.add_edge([\"conv_inr_node\", \"conv_eur_node\"], END)\n",
    "\n",
    "\n",
    "graph = builder.compile()"
   ]
  },
  {
   "cell_type": "code",
   "execution_count": null,
   "id": "bf14e0dd",
   "metadata": {},
   "outputs": [],
   "source": [
    "from IPython.display import Image, display\n",
    "\n",
    "display(Image(graph.get_graph().draw_mermaid_png()))"
   ]
  },
  {
   "cell_type": "code",
   "execution_count": null,
   "id": "d4afb1ab",
   "metadata": {},
   "outputs": [],
   "source": [
    "amt = input(\"Enter amount in USD: \")\n",
    "\n",
    "graph.invoke(\n",
    "    {\n",
    "        \"amount_usd\": float(amt),\n",
    "        \"target_currency\": input(\"Enter target currency (inr/eur): \")\n",
    "    }\n",
    ")"
   ]
  }
 ],
 "metadata": {
  "kernelspec": {
   "display_name": ".venv",
   "language": "python",
   "name": "python3"
  },
  "language_info": {
   "codemirror_mode": {
    "name": "ipython",
    "version": 3
   },
   "file_extension": ".py",
   "mimetype": "text/x-python",
   "name": "python",
   "nbconvert_exporter": "python",
   "pygments_lexer": "ipython3",
   "version": "3.12.2"
  }
 },
 "nbformat": 4,
 "nbformat_minor": 5
}
