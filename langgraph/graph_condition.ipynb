{
 "cells": [
  {
   "cell_type": "code",
   "execution_count": null,
   "id": "45d6417d",
   "metadata": {},
   "outputs": [],
   "source": [
    "from typing import TypedDict, Literal\n",
    "\n",
    "class PortfolioState(TypedDict):\n",
    "    amount_usd: float\n",
    "    total_usd: float\n",
    "    target_currency: Literal['inr', 'eur']\n",
    "    total: float"
   ]
  },
  {
   "cell_type": "code",
   "execution_count": null,
   "id": "f859ae1f",
   "metadata": {},
   "outputs": [],
   "source": [
    "def calc_total(state: PortfolioState) -> PortfolioState:\n",
    "    state['total_usd'] = state['amount_usd'] * 1.08\n",
    "    return state\n",
    "\n",
    "def conv_inr(state: PortfolioState) -> PortfolioState:\n",
    "    state['total'] = state['total_usd'] * 85.69\n",
    "    return state\n",
    "\n",
    "def conv_eur(state: PortfolioState) -> PortfolioState:\n",
    "    state['total'] = state['total_usd'] * 0.85\n",
    "    return state\n",
    "\n",
    "def choose_conversion(state: PortfolioState) -> str:\n",
    "    return state['target_currency']"
   ]
  },
  {
   "cell_type": "code",
   "execution_count": null,
   "id": "5d7442d4",
   "metadata": {},
   "outputs": [],
   "source": [
    "from langgraph.graph import StateGraph, START, END\n",
    "\n",
    "builder = StateGraph(PortfolioState)\n",
    "\n",
    "builder.add_node(\"calc_total_node\", calc_total)\n",
    "builder.add_node(\"conv_inr_node\", conv_inr)\n",
    "builder.add_node(\"conv_eur_node\", conv_eur)\n",
    "\n",
    "builder.add_edge(START, \"calc_total_node\")\n",
    "builder.add_conditional_edges(\n",
    "    \"calc_total_node\",\n",
    "    choose_conversion, {\n",
    "    \"inr\": \"conv_inr_node\",\n",
    "    \"eur\": \"conv_eur_node\"\n",
    "})\n",
    "builder.add_edge([\"conv_inr_node\", \"conv_eur_node\"], END)\n",
    "\n",
    "\n",
    "graph = builder.compile()"
   ]
  },
  {
   "cell_type": "code",
   "execution_count": null,
   "id": "bf14e0dd",
   "metadata": {},
   "outputs": [],
   "source": [
    "from IPython.display import Image, display\n",
    "\n",
    "display(Image(graph.get_graph().draw_mermaid_png()))"
   ]
  },
  {
   "cell_type": "code",
   "execution_count": null,
   "id": "d4afb1ab",
   "metadata": {},
   "outputs": [],
   "source": [
    "amt = input(\"Enter amount in USD: \")\n",
    "\n",
    "graph.invoke(\n",
    "    {\n",
    "        \"amount_usd\": float(amt),\n",
    "        \"target_currency\": input(\"Enter target currency (inr/eur): \")\n",
    "    }\n",
    ")"
   ]
  }
 ],
 "metadata": {
  "kernelspec": {
   "display_name": ".venv",
   "language": "python",
   "name": "python3"
  },
  "language_info": {
   "codemirror_mode": {
    "name": "ipython",
    "version": 3
   },
   "file_extension": ".py",
   "mimetype": "text/x-python",
   "name": "python",
   "nbconvert_exporter": "python",
   "pygments_lexer": "ipython3",
   "version": "3.12.2"
  }
 },
 "nbformat": 4,
 "nbformat_minor": 5
}
