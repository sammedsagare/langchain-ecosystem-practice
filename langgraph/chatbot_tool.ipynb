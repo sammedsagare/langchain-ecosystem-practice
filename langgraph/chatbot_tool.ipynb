{
 "cells": [
  {
   "cell_type": "markdown",
   "id": "2efa3e69",
   "metadata": {},
   "source": [
    "This notebook demonstrates the use of LangChain and LangGraph libraries to create a chatbot capable of querying stock prices and performing workflow automation. It integrates tools, state graphs, and a language model to process user queries and generate responses.\n",
    "\n",
    "\n",
    "### 1. **Imports and Setup**\n",
    "    - Libraries such as `langchain`, `langgraph`, and `dotenv` are imported to enable chatbot functionality, tool integration, and environment variable management.\n",
    "    - The `load_dotenv()` function is used to load environment variables from a `.env` file.\n",
    "\n",
    "### 2. **State Definition**\n",
    "    - A `State` class is defined using `TypedDict` to structure the chatbot's state, including messages processed by the graph.\n",
    "\n",
    "### 3. **Tool Integration**\n",
    "    - A tool named `get_stock_price` is implemented to fetch stock prices for given symbols (e.g., `MSFT`, `AAPL`, `AMZN`).\n",
    "    - The tool is bound to the language model (`llm`) using `llm.bind_tools()`.\n",
    "\n",
    "### 4. **State Graph Construction**\n",
    "    - A `StateGraph` is built to define the workflow of the chatbot.\n",
    "    - Nodes and edges are added to the graph to represent the flow of messages and tool invocations.\n",
    "    - Conditional edges are used to determine when tools should be invoked.\n",
    "\n",
    "### 5. **Graph Compilation**\n",
    "    - The graph is compiled into a `CompiledStateGraph` object, which can process user queries and generate responses.\n",
    "\n",
    "### 6. **Visualization**\n",
    "    - The graph structure is visualized using Mermaid diagrams, rendered as PNG images.\n",
    "\n",
    "### 7. **Query Execution**\n",
    "    - User queries are passed to the graph using the `invoke()` method.\n",
    "    - The chatbot processes the queries, invokes tools as needed, and returns responses.\n",
    "\n",
    "---\n",
    "\n",
    "## Variables in the Notebook\n",
    "\n",
    "### Key Variables\n",
    "- **`ChatGroq`**: Represents the language model used for chatbot functionality.\n",
    "- **`START` and `END`**: Constants defining the start and end nodes of the graph.\n",
    "- **`State`**: TypedDict defining the structure of the chatbot's state.\n",
    "- **`ToolNode`**: Represents a node in the graph for tool invocation.\n",
    "- **`builder`**: StateGraph object used to construct the workflow.\n",
    "- **`get_stock_price`**: Tool for fetching stock prices.\n",
    "- **`graph`**: CompiledStateGraph object for executing queries.\n",
    "- **`llm` and `llm_with_tools`**: Language model and its binding with tools.\n",
    "- **`msg`**: Example user query about stock purchases.\n",
    "- **`state`**: Dictionary representing the chatbot's state after processing queries.\n",
    "- **`tools`**: List of tools integrated into the chatbot.\n",
    "\n",
    "---\n",
    "\n",
    "## Example Queries\n",
    "1. **Stock Price Query**:\n",
    "    - User asks for the price of `AAPL` stock.\n",
    "    - The chatbot invokes the `get_stock_price` tool and returns the price.\n",
    "\n",
    "2. **Historical Inquiry**:\n",
    "    - User asks about the inventor of the theory of relativity.\n",
    "    - The chatbot processes the query and provides the name.\n",
    "\n",
    "3. **Cost Calculation**:\n",
    "    - User asks for the total cost of purchasing stocks.\n",
    "    - The chatbot calculates the cost using current stock prices and returns the result."
   ]
  },
  {
   "cell_type": "code",
   "execution_count": null,
   "id": "8cfe0271",
   "metadata": {},
   "outputs": [],
   "source": [
    "from langchain_groq import ChatGroq \n",
    "from typing import Annotated\n",
    "from typing_extensions import TypedDict\n",
    "from langgraph.graph import StateGraph, START\n",
    "from langgraph.graph.message import add_messages\n",
    "from langchain_core.tools import tool\n",
    "from langgraph.prebuilt import ToolNode, tools_condition"
   ]
  },
  {
   "cell_type": "code",
   "execution_count": null,
   "id": "4c83a035",
   "metadata": {},
   "outputs": [],
   "source": [
    "from dotenv import load_dotenv\n",
    "load_dotenv()"
   ]
  },
  {
   "cell_type": "code",
   "execution_count": null,
   "id": "1c1777fd",
   "metadata": {},
   "outputs": [],
   "source": [
    "class State(TypedDict):\n",
    "    messages: Annotated[list, add_messages]"
   ]
  },
  {
   "cell_type": "code",
   "execution_count": null,
   "id": "1e479344",
   "metadata": {},
   "outputs": [],
   "source": [
    "@tool\n",
    "def get_stock_price(symbol: str) -> float:\n",
    "    \"\"\"\n",
    "    Get the stock price for a given symbol.\n",
    "\n",
    "    Args:\n",
    "        symbol (str): The stock symbol (e.g., 'MSFT', 'AAPL', 'AMZN').\n",
    "\n",
    "    Returns:\n",
    "        float: The stock price for the given symbol, or 0.0 if the symbol is not found.\n",
    "    \"\"\"\n",
    "    return {\n",
    "        \"MSFT\": 495.94,\n",
    "        \"AAPL\": 201.08,\n",
    "        \"AMZN\": 223.3\n",
    "    }.get(symbol, 0.0)\n",
    "\n",
    "tools = [get_stock_price]\n",
    "\n",
    "llm = ChatGroq(\n",
    "        model=\"meta-llama/llama-4-maverick-17b-128e-instruct\", \n",
    "        temperature=0.7\n",
    "    )\n",
    "llm_with_tools = llm.bind_tools(tools)"
   ]
  },
  {
   "cell_type": "code",
   "execution_count": null,
   "id": "55d643e2",
   "metadata": {},
   "outputs": [],
   "source": [
    "def chatbot(state: State):\n",
    "    return {\"messages\": [llm_with_tools.invoke(state[\"messages\"])]}\n",
    "\n",
    "builder = StateGraph(State)\n",
    "\n",
    "builder.add_node(chatbot)\n",
    "builder.add_node(\"tools\", ToolNode(tools))\n",
    "\n",
    "builder.add_edge(START, \"chatbot\")\n",
    "builder.add_conditional_edges(\"chatbot\", tools_condition)\n",
    "\n",
    "graph = builder.compile()"
   ]
  },
  {
   "cell_type": "code",
   "execution_count": null,
   "id": "d2585747",
   "metadata": {},
   "outputs": [],
   "source": [
    "from IPython import display\n",
    "display.display(display.Image(graph.get_graph().draw_mermaid_png()))"
   ]
  },
  {
   "cell_type": "code",
   "execution_count": null,
   "id": "b1ae4b33",
   "metadata": {},
   "outputs": [],
   "source": [
    "state = graph.invoke({\"messages\": [{\"role\": \"user\", \"content\": \"What is the price of AAPL stock right now?\"}]})\n",
    "print(state[\"messages\"][-1].content)"
   ]
  },
  {
   "cell_type": "code",
   "execution_count": null,
   "id": "8ff3e1f2",
   "metadata": {},
   "outputs": [],
   "source": [
    "state = graph.invoke({\"messages\": [{\"role\": \"user\", \"content\": \"Who invented theory of relativity? print person name only\"}]})\n",
    "print(state[\"messages\"][-1].content)"
   ]
  },
  {
   "cell_type": "code",
   "execution_count": 19,
   "id": "23a4c6d9",
   "metadata": {},
   "outputs": [
    {
     "name": "stdout",
     "output_type": "stream",
     "text": [
      "495.94\n"
     ]
    }
   ],
   "source": [
    "msg = \"I want to buy 20 AMZN stocks using current price. Then 15 MSFT. What will be the total cost?\"\n",
    "\n",
    "state = graph.invoke({\"messages\": [{\"role\": \"user\", \"content\": msg}]})\n",
    "print(state[\"messages\"][-1].content)"
   ]
  }
 ],
 "metadata": {
  "kernelspec": {
   "display_name": ".venv",
   "language": "python",
   "name": "python3"
  },
  "language_info": {
   "codemirror_mode": {
    "name": "ipython",
    "version": 3
   },
   "file_extension": ".py",
   "mimetype": "text/x-python",
   "name": "python",
   "nbconvert_exporter": "python",
   "pygments_lexer": "ipython3",
   "version": "3.12.2"
  }
 },
 "nbformat": 4,
 "nbformat_minor": 5
}
