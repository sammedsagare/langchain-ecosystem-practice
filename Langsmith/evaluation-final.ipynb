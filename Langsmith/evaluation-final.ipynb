{
 "cells": [
  {
   "cell_type": "code",
   "execution_count": 6,
   "id": "a23cf66d",
   "metadata": {},
   "outputs": [
    {
     "name": "stdout",
     "output_type": "stream",
     "text": [
      "Requirement already satisfied: langsmith in e:\\coding\\langchain\\.venv\\lib\\site-packages (0.4.3)\n",
      "Requirement already satisfied: openevals in e:\\coding\\langchain\\.venv\\lib\\site-packages (0.1.0)\n",
      "Requirement already satisfied: langchain in e:\\coding\\langchain\\.venv\\lib\\site-packages (0.3.26)\n",
      "Requirement already satisfied: langchain-groq in e:\\coding\\langchain\\.venv\\lib\\site-packages (0.3.4)\n",
      "Requirement already satisfied: python-dotenv in e:\\coding\\langchain\\.venv\\lib\\site-packages (1.1.1)\n",
      "Requirement already satisfied: httpx<1,>=0.23.0 in e:\\coding\\langchain\\.venv\\lib\\site-packages (from langsmith) (0.28.1)\n",
      "Requirement already satisfied: orjson<4.0.0,>=3.9.14 in e:\\coding\\langchain\\.venv\\lib\\site-packages (from langsmith) (3.10.18)\n",
      "Requirement already satisfied: packaging>=23.2 in e:\\coding\\langchain\\.venv\\lib\\site-packages (from langsmith) (24.2)\n",
      "Requirement already satisfied: pydantic<3,>=1 in e:\\coding\\langchain\\.venv\\lib\\site-packages (from langsmith) (2.11.7)\n",
      "Requirement already satisfied: requests<3,>=2 in e:\\coding\\langchain\\.venv\\lib\\site-packages (from langsmith) (2.32.4)\n",
      "Requirement already satisfied: requests-toolbelt<2.0.0,>=1.0.0 in e:\\coding\\langchain\\.venv\\lib\\site-packages (from langsmith) (1.0.0)\n",
      "Requirement already satisfied: zstandard<0.24.0,>=0.23.0 in e:\\coding\\langchain\\.venv\\lib\\site-packages (from langsmith) (0.23.0)\n",
      "Requirement already satisfied: langchain-openai>=0.3.6 in e:\\coding\\langchain\\.venv\\lib\\site-packages (from openevals) (0.3.25)\n",
      "Requirement already satisfied: rich>=13.9.4 in e:\\coding\\langchain\\.venv\\lib\\site-packages (from openevals) (14.0.0)\n",
      "Requirement already satisfied: langchain-core<1.0.0,>=0.3.66 in e:\\coding\\langchain\\.venv\\lib\\site-packages (from langchain) (0.3.66)\n",
      "Requirement already satisfied: langchain-text-splitters<1.0.0,>=0.3.8 in e:\\coding\\langchain\\.venv\\lib\\site-packages (from langchain) (0.3.8)\n",
      "Requirement already satisfied: SQLAlchemy<3,>=1.4 in e:\\coding\\langchain\\.venv\\lib\\site-packages (from langchain) (2.0.41)\n",
      "Requirement already satisfied: PyYAML>=5.3 in e:\\coding\\langchain\\.venv\\lib\\site-packages (from langchain) (6.0.2)\n",
      "Requirement already satisfied: groq<1,>=0.28.0 in e:\\coding\\langchain\\.venv\\lib\\site-packages (from langchain-groq) (0.28.0)\n",
      "Requirement already satisfied: anyio<5,>=3.5.0 in e:\\coding\\langchain\\.venv\\lib\\site-packages (from groq<1,>=0.28.0->langchain-groq) (4.9.0)\n",
      "Requirement already satisfied: distro<2,>=1.7.0 in e:\\coding\\langchain\\.venv\\lib\\site-packages (from groq<1,>=0.28.0->langchain-groq) (1.9.0)\n",
      "Requirement already satisfied: sniffio in e:\\coding\\langchain\\.venv\\lib\\site-packages (from groq<1,>=0.28.0->langchain-groq) (1.3.1)\n",
      "Requirement already satisfied: typing-extensions<5,>=4.10 in e:\\coding\\langchain\\.venv\\lib\\site-packages (from groq<1,>=0.28.0->langchain-groq) (4.14.0)\n",
      "Requirement already satisfied: certifi in e:\\coding\\langchain\\.venv\\lib\\site-packages (from httpx<1,>=0.23.0->langsmith) (2025.6.15)\n",
      "Requirement already satisfied: httpcore==1.* in e:\\coding\\langchain\\.venv\\lib\\site-packages (from httpx<1,>=0.23.0->langsmith) (1.0.9)\n",
      "Requirement already satisfied: idna in e:\\coding\\langchain\\.venv\\lib\\site-packages (from httpx<1,>=0.23.0->langsmith) (3.10)\n",
      "Requirement already satisfied: h11>=0.16 in e:\\coding\\langchain\\.venv\\lib\\site-packages (from httpcore==1.*->httpx<1,>=0.23.0->langsmith) (0.16.0)\n",
      "Requirement already satisfied: tenacity!=8.4.0,<10.0.0,>=8.1.0 in e:\\coding\\langchain\\.venv\\lib\\site-packages (from langchain-core<1.0.0,>=0.3.66->langchain) (9.1.2)\n",
      "Requirement already satisfied: jsonpatch<2.0,>=1.33 in e:\\coding\\langchain\\.venv\\lib\\site-packages (from langchain-core<1.0.0,>=0.3.66->langchain) (1.33)\n",
      "Requirement already satisfied: openai<2.0.0,>=1.86.0 in e:\\coding\\langchain\\.venv\\lib\\site-packages (from langchain-openai>=0.3.6->openevals) (1.91.0)\n",
      "Requirement already satisfied: tiktoken<1,>=0.7 in e:\\coding\\langchain\\.venv\\lib\\site-packages (from langchain-openai>=0.3.6->openevals) (0.9.0)\n",
      "Requirement already satisfied: annotated-types>=0.6.0 in e:\\coding\\langchain\\.venv\\lib\\site-packages (from pydantic<3,>=1->langsmith) (0.7.0)\n",
      "Requirement already satisfied: pydantic-core==2.33.2 in e:\\coding\\langchain\\.venv\\lib\\site-packages (from pydantic<3,>=1->langsmith) (2.33.2)\n",
      "Requirement already satisfied: typing-inspection>=0.4.0 in e:\\coding\\langchain\\.venv\\lib\\site-packages (from pydantic<3,>=1->langsmith) (0.4.1)\n",
      "Requirement already satisfied: charset_normalizer<4,>=2 in e:\\coding\\langchain\\.venv\\lib\\site-packages (from requests<3,>=2->langsmith) (3.4.2)\n",
      "Requirement already satisfied: urllib3<3,>=1.21.1 in e:\\coding\\langchain\\.venv\\lib\\site-packages (from requests<3,>=2->langsmith) (2.5.0)\n",
      "Requirement already satisfied: markdown-it-py>=2.2.0 in e:\\coding\\langchain\\.venv\\lib\\site-packages (from rich>=13.9.4->openevals) (3.0.0)\n",
      "Requirement already satisfied: pygments<3.0.0,>=2.13.0 in e:\\coding\\langchain\\.venv\\lib\\site-packages (from rich>=13.9.4->openevals) (2.19.2)\n",
      "Requirement already satisfied: greenlet>=1 in e:\\coding\\langchain\\.venv\\lib\\site-packages (from SQLAlchemy<3,>=1.4->langchain) (3.2.3)\n",
      "Requirement already satisfied: jsonpointer>=1.9 in e:\\coding\\langchain\\.venv\\lib\\site-packages (from jsonpatch<2.0,>=1.33->langchain-core<1.0.0,>=0.3.66->langchain) (3.0.0)\n",
      "Requirement already satisfied: mdurl~=0.1 in e:\\coding\\langchain\\.venv\\lib\\site-packages (from markdown-it-py>=2.2.0->rich>=13.9.4->openevals) (0.1.2)\n",
      "Requirement already satisfied: jiter<1,>=0.4.0 in e:\\coding\\langchain\\.venv\\lib\\site-packages (from openai<2.0.0,>=1.86.0->langchain-openai>=0.3.6->openevals) (0.10.0)\n",
      "Requirement already satisfied: tqdm>4 in e:\\coding\\langchain\\.venv\\lib\\site-packages (from openai<2.0.0,>=1.86.0->langchain-openai>=0.3.6->openevals) (4.67.1)\n",
      "Requirement already satisfied: regex>=2022.1.18 in e:\\coding\\langchain\\.venv\\lib\\site-packages (from tiktoken<1,>=0.7->langchain-openai>=0.3.6->openevals) (2024.11.6)\n",
      "Requirement already satisfied: colorama in e:\\coding\\langchain\\.venv\\lib\\site-packages (from tqdm>4->openai<2.0.0,>=1.86.0->langchain-openai>=0.3.6->openevals) (0.4.6)\n"
     ]
    },
    {
     "name": "stderr",
     "output_type": "stream",
     "text": [
      "\n",
      "[notice] A new release of pip is available: 24.0 -> 25.1.1\n",
      "[notice] To update, run: python.exe -m pip install --upgrade pip\n"
     ]
    }
   ],
   "source": [
    "!pip install -U langsmith openevals langchain langchain-groq python-dotenv"
   ]
  },
  {
   "cell_type": "code",
   "execution_count": 7,
   "id": "23197e7e",
   "metadata": {},
   "outputs": [
    {
     "data": {
      "text/plain": [
       "True"
      ]
     },
     "execution_count": 7,
     "metadata": {},
     "output_type": "execute_result"
    }
   ],
   "source": [
    "from dotenv import load_dotenv\n",
    "load_dotenv()\n"
   ]
  },
  {
   "cell_type": "code",
   "execution_count": 8,
   "id": "241a716f",
   "metadata": {},
   "outputs": [],
   "source": [
    "from langchain_groq import ChatGroq\n",
    "from langsmith import Client\n"
   ]
  },
  {
   "cell_type": "code",
   "execution_count": 9,
   "id": "b063826e",
   "metadata": {},
   "outputs": [],
   "source": [
    "# Initialize LangSmith client\n",
    "client = Client()\n",
    "\n",
    "# Setup Groq LLaMA-4 Maverick model\n",
    "llm = ChatGroq(\n",
    "    temperature=0.7,\n",
    "    model_name=\"meta-llama/llama-4-maverick-17b-128e-instruct\"\n",
    ")\n"
   ]
  },
  {
   "cell_type": "code",
   "execution_count": 19,
   "id": "c0a3c608",
   "metadata": {},
   "outputs": [
    {
     "name": "stdout",
     "output_type": "stream",
     "text": [
      "Created new dataset: Final Groq Eval.\n"
     ]
    }
   ],
   "source": [
    "dataset_name = \"Final Groq Eval.\"\n",
    "\n",
    "# Check if it exists\n",
    "existing = next((ds for ds in client.list_datasets() if ds.name == dataset_name), None)\n",
    "if existing:\n",
    "    dataset = existing\n",
    "    print(f\"Using existing dataset: {dataset.name}\")\n",
    "else:\n",
    "    dataset = client.create_dataset(\n",
    "        dataset_name=dataset_name,\n",
    "        description=\"Dataset Evaluation w/ Groq - Final\"\n",
    "    )\n",
    "    print(f\"Created new dataset: {dataset.name}\")\n"
   ]
  },
  {
   "cell_type": "code",
   "execution_count": 20,
   "id": "503cdf9d",
   "metadata": {},
   "outputs": [
    {
     "name": "stdout",
     "output_type": "stream",
     "text": [
      "Added 4 examples to dataset\n"
     ]
    }
   ],
   "source": [
    "examples = [\n",
    "    {\n",
    "        \"inputs\": {\"question\": \"Which country is Mount Kilimanjaro located in?\"},\n",
    "        \"outputs\": {\"answer\": \"Mount Kilimanjaro is located in Tanzania.\"},\n",
    "    },\n",
    "    {\n",
    "        \"inputs\": {\"question\": \"What is Earth's lowest point?\"},\n",
    "        \"outputs\": {\"answer\": \"Earth's lowest point is the Dead Sea.\"},\n",
    "    },\n",
    "    {\n",
    "        \"inputs\": {\"question\": \"Who is the president of USA in 2019?\"},\n",
    "        \"outputs\": {\"answer\": \"Donald Trump\"},\n",
    "    },\n",
    "    {\n",
    "        \"inputs\": {\"question\": \"What is Langchain?\"},\n",
    "        \"outputs\": {\"answer\": \"LangChain is an open source framework for building applications based on large language models (LLMs).\"},\n",
    "    },\n",
    "]\n",
    "\n",
    "client.create_examples(dataset_id=dataset.id, examples=examples)\n",
    "print(f\"Added {len(examples)} examples to dataset\")\n"
   ]
  },
  {
   "cell_type": "code",
   "execution_count": 21,
   "id": "c9ab2631",
   "metadata": {},
   "outputs": [],
   "source": [
    "def target(inputs: dict) -> dict:\n",
    "    messages = [\n",
    "        {\"role\": \"system\", \"content\": \"Answer the following question accurately\"},\n",
    "        {\"role\": \"user\", \"content\": inputs[\"question\"]},\n",
    "    ]\n",
    "    response = llm.invoke(messages)\n",
    "    return {\"answer\": response.content.strip()}\n"
   ]
  },
  {
   "cell_type": "code",
   "execution_count": 22,
   "id": "0667331b",
   "metadata": {},
   "outputs": [],
   "source": [
    "from typing import Dict\n",
    "from langchain_groq import ChatGroq\n",
    "\n",
    "# Your evaluator LLM\n",
    "judge_llm = ChatGroq(\n",
    "    temperature=0.3,\n",
    "    model_name=\"meta-llama/llama-4-maverick-17b-128e-instruct\"\n",
    ")\n",
    "\n",
    "# Prompt to judge correctness\n",
    "JUDGE_PROMPT = \"\"\"You are a strict evaluator.\n",
    "\n",
    "Question: {question}\n",
    "Predicted Answer: {prediction}\n",
    "Reference Answer: {reference}\n",
    "\n",
    "Is the predicted answer correct compared to the reference? Reply with only \"Yes\" or \"No\", then explain.\n",
    "\"\"\"\n",
    "\n",
    "# Function-style evaluator\n",
    "def groq_correctness_evaluator(inputs: dict, outputs: dict, reference_outputs: dict) -> Dict:\n",
    "    filled_prompt = JUDGE_PROMPT.format(\n",
    "        question=inputs[\"question\"],\n",
    "        prediction=outputs[\"answer\"],\n",
    "        reference=reference_outputs[\"answer\"]\n",
    "    )\n",
    "\n",
    "    response = judge_llm.invoke(filled_prompt).content.strip()\n",
    "\n",
    "    # Basic scoring\n",
    "    score = 1.0 if response.lower().startswith(\"yes\") else 0.0\n",
    "\n",
    "    return {\n",
    "        \"key\": \"groq_correctness\",\n",
    "        \"score\": score,\n",
    "        \"comment\": response\n",
    "    }\n"
   ]
  },
  {
   "cell_type": "code",
   "execution_count": 23,
   "id": "d3d68657",
   "metadata": {},
   "outputs": [
    {
     "name": "stdout",
     "output_type": "stream",
     "text": [
      "View the evaluation results for experiment: 'groq-only-eval-8434abcf' at:\n",
      "https://smith.langchain.com/o/961102de-fb10-40b4-921c-d523b4df68aa/datasets/6c713137-5984-458d-92e5-a401d689958e/compare?selectedSessions=5ed6a3af-7b3b-4a0e-bb63-48e4087b290a\n",
      "\n",
      "\n"
     ]
    },
    {
     "name": "stderr",
     "output_type": "stream",
     "text": [
      "4it [00:01,  2.70it/s]"
     ]
    },
    {
     "name": "stdout",
     "output_type": "stream",
     "text": [
      "✅ Groq-only evaluation complete.\n"
     ]
    },
    {
     "name": "stderr",
     "output_type": "stream",
     "text": [
      "\n"
     ]
    }
   ],
   "source": [
    "results = client.evaluate(\n",
    "    target,\n",
    "    data=dataset.id,\n",
    "    evaluators=[groq_correctness_evaluator],\n",
    "    experiment_prefix=\"groq-only-eval\",\n",
    "    max_concurrency=2,\n",
    ")\n",
    "\n",
    "print(\"✅ Groq-only evaluation complete.\")"
   ]
  },
  {
   "cell_type": "code",
   "execution_count": null,
   "id": "d98fa9d6",
   "metadata": {},
   "outputs": [],
   "source": []
  }
 ],
 "metadata": {
  "kernelspec": {
   "display_name": ".venv",
   "language": "python",
   "name": "python3"
  },
  "language_info": {
   "codemirror_mode": {
    "name": "ipython",
    "version": 3
   },
   "file_extension": ".py",
   "mimetype": "text/x-python",
   "name": "python",
   "nbconvert_exporter": "python",
   "pygments_lexer": "ipython3",
   "version": "3.12.2"
  }
 },
 "nbformat": 4,
 "nbformat_minor": 5
}
